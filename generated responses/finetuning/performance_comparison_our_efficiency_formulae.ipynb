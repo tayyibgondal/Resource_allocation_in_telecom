{
 "cells": [
  {
   "cell_type": "code",
   "execution_count": 3,
   "metadata": {},
   "outputs": [],
   "source": [
    "import numpy as np\n",
    "import matplotlib.pyplot as plt\n",
    "import json"
   ]
  },
  {
   "cell_type": "code",
   "execution_count": 2,
   "metadata": {},
   "outputs": [],
   "source": [
    "noise_power_density = 5.0119e-21\n",
    "W = 10e6 # bandwidth (unit:Hz)\n",
    "circuit_power = 1 # constant circuit power of transmitter (unit: Watt)"
   ]
  },
  {
   "cell_type": "code",
   "execution_count": 5,
   "metadata": {},
   "outputs": [],
   "source": [
    "def spectral_efficiency(P, h, N0, bandwidth):\n",
    "    \"\"\"\n",
    "    Calculate the total spectral efficiency for two transmitters.\n",
    "    Parameters:\n",
    "    - P: Array of transmit powers [P1, P2]\n",
    "    - h: Array of channel gains [h11, h12, h21, h22] (first number is index of tx, second is index of rx)\n",
    "    - N0: Noise power density\n",
    "    - W: Bandwidth\n",
    "\n",
    "    Returns:\n",
    "    - Total spectral efficiency\n",
    "    \"\"\"\n",
    "    P1, P2 = P\n",
    "    # h11, h12, h21, h22 = h\n",
    "    h11, h12, h21, h22 = h\n",
    "\n",
    "    SE1 = np.log2(1 + h11 * P1 / (N0 * bandwidth + h21 * P2))\n",
    "    SE2 = np.log2(1 + h22 * P2 / (N0 * bandwidth + h12 * P1))\n",
    "\n",
    "    total_SE = SE1 + SE2\n",
    "\n",
    "    return total_SE"
   ]
  },
  {
   "cell_type": "code",
   "execution_count": 6,
   "metadata": {},
   "outputs": [],
   "source": [
    "def energy_efficiency(P, h, N0, bandwidth, Pc):\n",
    "    \"\"\"\n",
    "    Calculate the energy efficiency for two transmitters.\n",
    "\n",
    "    Parameters:\n",
    "    - P: Array of transmit powers [P1, P2]\n",
    "    - h: Array of channel gains [h11, h12, h21, h22]\n",
    "    - N0: Noise power density\n",
    "    - W: Bandwidth\n",
    "    - Pc: Constant circuit power of the transmitter\n",
    "\n",
    "    Returns:\n",
    "    - Energy efficiency (EE)\n",
    "    \"\"\"\n",
    "    h11, h12, h21, h22 = h\n",
    "    P1, P2 = P\n",
    "\n",
    "    # Calculate the spectral efficiencies for the given power configuration\n",
    "    SE1 = np.log2(1 + h11 * P1 / (N0 * bandwidth + h21 * P2))\n",
    "    SE2 = np.log2(1 + h22 * P2 / (N0 * bandwidth + h12 * P1))\n",
    "\n",
    "    P1, P2 = P\n",
    "\n",
    "    EE = SE1/(P1+Pc) + SE2/(P2+Pc)\n",
    "\n",
    "    return EE"
   ]
  },
  {
   "cell_type": "code",
   "execution_count": 4,
   "metadata": {},
   "outputs": [],
   "source": [
    "# Read json files of generated responses\n",
    "file_name_ee = \"generated_responses_for_energy_efficiency.json\"\n",
    "file_name_se = \"generated_responses_for_spectral_efficiency.json\"\n",
    "\n",
    "with open(file_name_ee, 'r') as f:\n",
    "    ee_data = json.load(f)\n",
    "\n",
    "with open(file_name_se, 'r') as f:\n",
    "    se_data = json.load(f)"
   ]
  },
  {
   "cell_type": "code",
   "execution_count": 7,
   "metadata": {},
   "outputs": [],
   "source": [
    "# Lists to store energy and spectral efficiency for original and predicted responses\n",
    "original_energy_efficiencies = []\n",
    "predicted_energy_efficiencies = []\n",
    "original_spectral_efficiencies = []\n",
    "predicted_spectral_efficiencies = []"
   ]
  },
  {
   "cell_type": "code",
   "execution_count": 17,
   "metadata": {},
   "outputs": [
    {
     "name": "stderr",
     "output_type": "stream",
     "text": [
      "C:\\Users\\PMYLS\\AppData\\Local\\Temp\\ipykernel_5080\\4205438493.py:20: RuntimeWarning: invalid value encountered in log2\n",
      "  SE2 = np.log2(1 + h22 * P2 / (N0 * bandwidth + h12 * P1))\n",
      "C:\\Users\\PMYLS\\AppData\\Local\\Temp\\ipykernel_5080\\4205438493.py:19: RuntimeWarning: invalid value encountered in log2\n",
      "  SE1 = np.log2(1 + h11 * P1 / (N0 * bandwidth + h21 * P2))\n",
      "C:\\Users\\PMYLS\\AppData\\Local\\Temp\\ipykernel_5080\\4205438493.py:20: RuntimeWarning: divide by zero encountered in log2\n",
      "  SE2 = np.log2(1 + h22 * P2 / (N0 * bandwidth + h12 * P1))\n",
      "C:\\Users\\PMYLS\\AppData\\Local\\Temp\\ipykernel_5080\\4205438493.py:19: RuntimeWarning: divide by zero encountered in log2\n",
      "  SE1 = np.log2(1 + h11 * P1 / (N0 * bandwidth + h21 * P2))\n"
     ]
    }
   ],
   "source": [
    "# Process each entry in the ee dataset\n",
    "for entry in ee_data:\n",
    "    # Convert A values from string to integers\n",
    "    channel_gain_values = [int(x) for x in entry['input'].replace('If A is', '').replace(',', '').split()]\n",
    "    # Convert B values from string to integers\n",
    "    original_power_values = [int(x.strip().rstrip('.')) for x in entry['original_response'].replace('B is', '').split(',')]\n",
    "    predicted_power_values = [int(x.strip().rstrip('.')) for x in entry['predicted_response'].replace('B is', '').split(',')]\n",
    "    \n",
    "    # # Calculate efficiencies for original response\n",
    "    original_energy = energy_efficiency(original_power_values, channel_gain_values, noise_power_density, W, circuit_power)\n",
    "    original_energy_efficiencies.append(original_energy)\n",
    "    \n",
    "    # # Calculate efficiencies for predicted response\n",
    "    predicted_energy = energy_efficiency(predicted_power_values, channel_gain_values, noise_power_density, W, circuit_power)\n",
    "    predicted_energy_efficiencies.append(predicted_energy)"
   ]
  },
  {
   "cell_type": "code",
   "execution_count": null,
   "metadata": {},
   "outputs": [],
   "source": [
    "# Calculate average efficiencies\n",
    "avg_original_energy = sum(original_energy_efficiencies) / len(original_energy_efficiencies)\n",
    "avg_predicted_energy = sum(predicted_energy_efficiencies) / len(predicted_energy_efficiencies)\n",
    "\n",
    "avg_original_spectral = sum(original_spectral_efficiencies) / len(original_spectral_efficiencies)\n",
    "avg_predicted_spectral = sum(predicted_spectral_efficiencies) / len(predicted_spectral_efficiencies)"
   ]
  }
 ],
 "metadata": {
  "kernelspec": {
   "display_name": "Python 3",
   "language": "python",
   "name": "python3"
  },
  "language_info": {
   "codemirror_mode": {
    "name": "ipython",
    "version": 3
   },
   "file_extension": ".py",
   "mimetype": "text/x-python",
   "name": "python",
   "nbconvert_exporter": "python",
   "pygments_lexer": "ipython3",
   "version": "3.12.1"
  }
 },
 "nbformat": 4,
 "nbformat_minor": 2
}
