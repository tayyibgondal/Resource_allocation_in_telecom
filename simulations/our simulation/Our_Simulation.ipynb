{
  "cells": [
    {
      "cell_type": "markdown",
      "metadata": {
        "id": "yUFGnN3DUXEa"
      },
      "source": [
        "Step 0: Imports and coefficients"
      ]
    },
    {
      "cell_type": "code",
      "execution_count": null,
      "metadata": {
        "id": "2xW96kgyWCzi"
      },
      "outputs": [],
      "source": [
        "import numpy as np\n",
        "from numpy import random\n",
        "from scipy.optimize import minimize\n",
        "import cmath\n",
        "from sklearn.preprocessing import StandardScaler\n",
        "import cProfile"
      ]
    },
    {
      "cell_type": "code",
      "execution_count": null,
      "metadata": {
        "id": "lNkeU1NNUsoi"
      },
      "outputs": [],
      "source": [
        "noise_power_density = 5.0119e-21\n",
        "p_0 = -0.001\n",
        "chan_realisations = 100 # number of different channel realisations for one channel\n",
        "W = 10e6 # bandwidth (unit:Hz)\n",
        "circuit_power = 1 # constant circuit power of transmitter (unit: Watt)\n",
        "max_power = 1 # max transmission power (unit:Watt)\n",
        "num_samples = 10000 # no of rows in dataset\n",
        "\n",
        "# Define realistic bounds for an urban environment (1 km³ area)\n",
        "x_range, y_range, z_range = (0, 1000), (0, 1000), (0, 50)   # meters"
      ]
    },
    {
      "cell_type": "markdown",
      "metadata": {
        "id": "y42QAAHR9gKu"
      },
      "source": [
        "Step 1: Generate nodes in 3D space"
      ]
    },
    {
      "cell_type": "code",
      "execution_count": null,
      "metadata": {
        "id": "tp9qf9ex9omU"
      },
      "outputs": [],
      "source": [
        "def generate_random_coordinates(n_devices, x_range, y_range, z_range):\n",
        "    \"\"\"Generate random coordinates for devices in a 3D space.\n",
        "\n",
        "    Args:\n",
        "        n_devices (int): Number of devices to generate coordinates for.\n",
        "        x_range (tuple): The range (min, max) for the x-coordinate.\n",
        "        y_range (tuple): The range (min, max) for the y-coordinate.\n",
        "        z_range (tuple): The range (min, max) for the z-coordinate.\n",
        "\n",
        "    Returns:\n",
        "        list: A list of tuples containing the (x, y, z) coordinates.\n",
        "    \"\"\"\n",
        "    coordinates = np.zeros((n_devices, 3))\n",
        "    for i in range(n_devices):\n",
        "        x = np.random.uniform(*x_range)\n",
        "        y = np.random.uniform(*y_range)\n",
        "        z = np.random.uniform(*z_range)\n",
        "        coordinates[i] = [x, y, z]\n",
        "\n",
        "    return coordinates\n"
      ]
    },
    {
      "cell_type": "markdown",
      "metadata": {
        "id": "cMREGIF0BQny"
      },
      "source": [
        "Step 2: Define channel"
      ]
    },
    {
      "cell_type": "code",
      "execution_count": null,
      "metadata": {
        "id": "vCNNs5cQYeZO"
      },
      "outputs": [],
      "source": [
        "def calculate_distance(tx, rx):\n",
        "  \"\"\"Calculate the Euclidean distance between two 3D coordinates.\n",
        "\n",
        "    Args:\n",
        "        tx: 3D coordinate of the transmitter (x, y, z)\n",
        "        rx: 3D coordinate of the receiver (x, y, z)\n",
        "\n",
        "    Returns:\n",
        "        Distance between the two points.\n",
        "    \"\"\"\n",
        "  return np.linalg.norm(np.array(tx) - np.array(rx))"
      ]
    },
    {
      "cell_type": "code",
      "execution_count": null,
      "metadata": {
        "id": "-ql33XYx_FpL"
      },
      "outputs": [],
      "source": [
        "def generate_channel_model(ref_path_loss, tx, rx):\n",
        "  \"\"\"Generate channel model between one tx and its rx\n",
        "\n",
        "    Args:\n",
        "        ref_path_loss: reference path loss at 1m\n",
        "        tx: transmitter coordinates\n",
        "        rx: list of receiver coordinates\n",
        "\n",
        "    Returns:\n",
        "        h: channel model(1 x len(rx) x chan_realisations vector with multiple channel realisations across all tx-rx channel pairs)\n",
        "    \"\"\"\n",
        "  h = np.empty((1, len(rx), chan_realisations), dtype=complex)\n",
        "\n",
        "  epsilon = 1e-10\n",
        "  d_rx0 = calculate_distance(tx,rx[0])\n",
        "  distances_rx0 = np.maximum(d_rx0, epsilon)\n",
        "\n",
        "  d_rx1 = calculate_distance(tx,rx[1])\n",
        "  distances_rx1 = np.maximum(d_rx0, epsilon)\n",
        "\n",
        "  total_large_scale_fading_rx1 = cmath.sqrt(ref_path_loss/(distances_rx0**(3)))\n",
        "  total_large_scale_fading_rx2 = cmath.sqrt(ref_path_loss/(distances_rx0**(3)))\n",
        "\n",
        "  # Stack the large-scale fading values into an array\n",
        "  total_large_scale_fading = np.array([total_large_scale_fading_rx1, total_large_scale_fading_rx2])\n",
        "\n",
        "  # Generate small-scale fading\n",
        "  small_scale_fading = np.random.rayleigh(scale=1.0, size=(1, len(rx), chan_realisations))\n",
        "\n",
        "  # Multiply total large scale fading with small scale fading\n",
        "  h = small_scale_fading * total_large_scale_fading.reshape(1,2,1)\n",
        "\n",
        "  return h\n"
      ]
    },
    {
      "cell_type": "code",
      "execution_count": null,
      "metadata": {
        "id": "V-jdqrZfioOQ"
      },
      "outputs": [],
      "source": [
        "def generate_all_channels(ref_path_loss, tx_coords, rx_coords):\n",
        "  \"\"\"Generate channel realizations for all transmitter-receiver pairs.\n",
        "\n",
        "    Args:\n",
        "        ref_path_loss: reference path loss.\n",
        "        tx_coords: list of 3D coordinates for transmitters [(x1, y1, z1), (x2, y2, z2)].\n",
        "        rx_coords: list of 3D coordinates for receivers [(x1, y1, z1), (x2, y2, z2)].\n",
        "\n",
        "    Returns:\n",
        "        h_11, h_12, h_21, h_22: Channel model across all tx-rx pairs (shape: 1 x len(rx) x chan_realisations) e.g. h_21 means channel b/w transmitter 2 and receiver 1\n",
        "    \"\"\"\n",
        "  h1 = generate_channel_model(ref_path_loss, tx_coords[0], rx_coords)\n",
        "  h2 = generate_channel_model(ref_path_loss, tx_coords[1], rx_coords)\n",
        "\n",
        "  # print(h1)\n",
        "  # print(h1[:,0,:])\n",
        "  h_11 = h1[:,0,:]\n",
        "  h_12 = h1[:,1,:]\n",
        "\n",
        "  h_21 = h2[:,0,:]\n",
        "  h_22 = h2[:,1,:]\n",
        "\n",
        "  return np.array([h_11, h_12, h_21, h_22])\n"
      ]
    },
    {
      "cell_type": "markdown",
      "metadata": {
        "id": "Jz5CcxveHGzu"
      },
      "source": [
        "Step 3: Define channel gain"
      ]
    },
    {
      "cell_type": "code",
      "execution_count": null,
      "metadata": {
        "id": "6bSBqGIFHKDL"
      },
      "outputs": [],
      "source": [
        "def generate_channel_gains(channels):\n",
        "  return np.abs(channels)**2"
      ]
    },
    {
      "cell_type": "markdown",
      "metadata": {
        "id": "KjuwD5ymOFLV"
      },
      "source": [
        "Step 4: Define spectral and energy efficiency functions"
      ]
    },
    {
      "cell_type": "code",
      "execution_count": null,
      "metadata": {
        "id": "pOlZ4EK4Zc1i"
      },
      "outputs": [],
      "source": [
        "def spectral_efficiency(P, h, N0, bandwidth):\n",
        "    \"\"\"\n",
        "    Calculate the total spectral efficiency for two transmitters.\n",
        "    Parameters:\n",
        "    - P: Array of transmit powers [P1, P2]\n",
        "    - h: Array of channel gains [h11, h12, h21, h22] (first number is index of tx, second is index of rx)\n",
        "    - N0: Noise power density\n",
        "    - W: Bandwidth\n",
        "\n",
        "    Returns:\n",
        "    - Total spectral efficiency\n",
        "    \"\"\"\n",
        "    P1, P2 = P\n",
        "    # h11, h12, h21, h22 = h\n",
        "    h11, h12, h21, h22 = h\n",
        "\n",
        "    SE1 = np.log2(1 + h11 * P1 / (N0 * bandwidth + h21 * P2))\n",
        "    SE2 = np.log2(1 + h22 * P2 / (N0 * bandwidth + h12 * P1))\n",
        "\n",
        "    total_SE = SE1 + SE2\n",
        "\n",
        "    return total_SE"
      ]
    },
    {
      "cell_type": "code",
      "execution_count": null,
      "metadata": {
        "id": "j7fLHzH-yqv7"
      },
      "outputs": [],
      "source": [
        "def energy_efficiency(P, h, N0, bandwidth, Pc):\n",
        "    \"\"\"\n",
        "    Calculate the energy efficiency for two transmitters.\n",
        "\n",
        "    Parameters:\n",
        "    - P: Array of transmit powers [P1, P2]\n",
        "    - h: Array of channel gains [h11, h12, h21, h22]\n",
        "    - N0: Noise power density\n",
        "    - W: Bandwidth\n",
        "    - Pc: Constant circuit power of the transmitter\n",
        "\n",
        "    Returns:\n",
        "    - Energy efficiency (EE)\n",
        "    \"\"\"\n",
        "    h11, h12, h21, h22 = h\n",
        "    P1, P2 = P\n",
        "\n",
        "    # Calculate the spectral efficiencies for the given power configuration\n",
        "    SE1 = np.log2(1 + h11 * P1 / (N0 * bandwidth + h21 * P2))\n",
        "    SE2 = np.log2(1 + h22 * P2 / (N0 * bandwidth + h12 * P1))\n",
        "\n",
        "    P1, P2 = P\n",
        "\n",
        "    EE = SE1/(P1+Pc) + SE2/(P2+Pc)\n",
        "\n",
        "    return EE"
      ]
    },
    {
      "cell_type": "markdown",
      "metadata": {
        "id": "SXihjqriSOrB"
      },
      "source": [
        "Step 5: Find optimal transmission powers"
      ]
    },
    {
      "cell_type": "code",
      "execution_count": null,
      "metadata": {
        "id": "Tu8W-j8Vn_DY"
      },
      "outputs": [],
      "source": [
        "def find_optimal_power_on_se(h, N0, W):\n",
        "    \"\"\"\n",
        "    Find the optimal transmit powers for two transmitters using binary power control.\n",
        "\n",
        "    Parameters:\n",
        "    - h: Array of channel gains [h11, h12, h21, h22]\n",
        "    - N0: Noise power density\n",
        "    - W: Bandwidth\n",
        "\n",
        "    Returns:\n",
        "    - Optimal power configuration (P1, P2)\n",
        "    - Corresponding spectral efficiency\n",
        "    \"\"\"\n",
        "    # Define the possible power configurations: [P1, P2]\n",
        "    power_configurations = [\n",
        "        [0, 0],\n",
        "        [0, 1],\n",
        "        [1, 0],\n",
        "        [1, 1]\n",
        "    ]\n",
        "\n",
        "    # Initialize variables to store the best configuration and spectral efficiency\n",
        "    best_power_configuration = None\n",
        "    best_spectral_efficiency = -float('inf')\n",
        "    best_channel_gain = None\n",
        "\n",
        "    h_current = h[:, 0, :]  # Shape (2, 1, num_realizations)\n",
        "\n",
        "    # Loop over all channel realizations\n",
        "    for realization in range(h.shape[2]):\n",
        "      # Iterate over all possible power configurations\n",
        "      for P in power_configurations:\n",
        "        se = spectral_efficiency(P, h_current[:, realization], N0, W)\n",
        "\n",
        "        if se > best_spectral_efficiency:\n",
        "          best_spectral_efficiency = se\n",
        "          best_power_configuration = P\n",
        "          best_channel_gain = h_current[:, realization]\n",
        "\n",
        "\n",
        "    return best_channel_gain, best_power_configuration"
      ]
    },
    {
      "cell_type": "code",
      "source": [
        "from multiprocessing import Pool, cpu_count\n",
        "\n",
        "\n",
        "def objective(P, h_curr, N0, W, Pc):\n",
        "    return -np.sum(energy_efficiency(P, h_curr, N0, W, Pc))\n",
        "\n",
        "\n",
        "def find_optimal_power_on_ee(h, N0, W, Pc, threshold, num_workers=2):\n",
        "    # Initial power configuration\n",
        "    initial_power = [0, 0]\n",
        "\n",
        "    # Define bounds for each power: (0, max_threshold)\n",
        "    bounds = [(0.0001, threshold), (0.0001, threshold)]\n",
        "\n",
        "    # Extract channel gains for all realizations (shape: (2, num_realizations))\n",
        "    h_current = h[:, 0, :]\n",
        "\n",
        "    # Set number of workers to use\n",
        "    num_workers = num_workers or max(1, cpu_count() - 1)  # Leave one core free\n",
        "\n",
        "    # Prepare data for parallel processing\n",
        "    realization_data = [(initial_power, bounds, h_current[:, realization], N0, W, Pc) for realization in range(h.shape[2])]\n",
        "    # print(realization_data)\n",
        "\n",
        "    results_array = np.empty((h.shape[2],), dtype=[('optimal_power', float, 2), ('max_energy_efficiency', float)])\n",
        "\n",
        "    initial_powers = [data[0] for data in realization_data]\n",
        "    channel_gains = [data[2] for data in realization_data]\n",
        "    N0_list = [data[3] for data in realization_data]\n",
        "    W_list = [data[4] for data in realization_data]\n",
        "    Pc_list = [data[5] for data in realization_data]\n",
        "\n",
        "    with Pool(num_workers) as pool:\n",
        "        # Vectorize the objective function call using starmap\n",
        "        results = pool.starmap(objective, zip(\n",
        "            initial_powers,  # Pass initial powers\n",
        "            channel_gains,   # Pass channel gains\n",
        "            N0_list,         # Pass N0 values\n",
        "            W_list,          # Pass W values\n",
        "            Pc_list          # Pass Pc values\n",
        "        ))\n",
        "        results_array[:] = results\n",
        "    # Find the index of the maximum energy efficiency\n",
        "    best_index = np.argmax(results_array['max_energy_efficiency'])\n",
        "\n",
        "    # Extract the best values using the index\n",
        "    best_power_configuration = results_array['optimal_power'][best_index]\n",
        "    best_energy_efficiency = results_array['max_energy_efficiency'][best_index]\n",
        "    best_channel_gain = h_current[:, best_index]  # Corresponding channel gain for best realization\n",
        "    return best_channel_gain, best_power_configuration\n"
      ],
      "metadata": {
        "id": "04bcZqUj8R1x"
      },
      "execution_count": null,
      "outputs": []
    },
    {
      "cell_type": "markdown",
      "metadata": {
        "id": "CB4_BXztHYyZ"
      },
      "source": [
        "Generation of data"
      ]
    },
    {
      "cell_type": "code",
      "source": [
        "from functools import partial\n",
        "\n",
        "# Partial function for handling the operations within a single sample\n",
        "def process_sample(sample, ref_path_loss, N0, bandwidth, Pc, threshold):\n",
        "    # Generate coordinates for 2 transmitters and 2 receivers\n",
        "    transmitters = generate_random_coordinates(2, x_range, y_range, z_range)\n",
        "    receivers = generate_random_coordinates(2, x_range, y_range, z_range)\n",
        "\n",
        "    # create channels b/w tx and rx\n",
        "    channels = generate_all_channels(ref_path_loss, transmitters, receivers)\n",
        "\n",
        "    # generate channel gains\n",
        "    h = generate_channel_gains(channels)\n",
        "\n",
        "    # Calculate optimal power for spectral efficiency\n",
        "    channel_gains_se, tx_powers_se = find_optimal_power_on_se(h, N0, bandwidth)\n",
        "    # Calculate optimal power for energy efficiency\n",
        "    channel_gains_ee, tx_powers_ee = find_optimal_power_on_ee(h, N0, bandwidth, Pc, threshold)\n",
        "\n",
        "    # Normalize channel gains and multiply by 100, then round to nearest integer\n",
        "    mean_gain_se = np.mean(channel_gains_se)\n",
        "    mean_gain_ee = np.mean(channel_gains_ee)\n",
        "\n",
        "    std_dev_gain_se = np.std(channel_gains_se)\n",
        "    std_dev_gain_ee = np.std(channel_gains_ee)\n",
        "\n",
        "    if std_dev_gain_se > 0:\n",
        "        normalized_channel_gains_se = np.round(((channel_gains_se - mean_gain_se) / std_dev_gain_se) * 100).astype(int)\n",
        "    else:\n",
        "        normalized_channel_gains_se = np.zeros_like(channel_gains_se)  # Avoid division by zero\n",
        "\n",
        "    if std_dev_gain_ee > 0:\n",
        "        normalized_channel_gains_ee = np.round(((channel_gains_ee - mean_gain_ee) / std_dev_gain_ee) * 100).astype(int)\n",
        "    else:\n",
        "        normalized_channel_gains_ee = np.zeros_like(channel_gains_ee) # Avoid division by zero\n",
        "\n",
        "    # Normalize transmit powers and multiply by 100, then round to nearest integer\n",
        "    normalized_tx_powers_se = np.round((np.array(tx_powers_se) / threshold) * 100).astype(int)\n",
        "    normalized_tx_powers_ee = np.round((np.array(tx_powers_ee) / threshold) * 100).astype(int)\n",
        "\n",
        "    # Prepare output strings\n",
        "    line_se = f\"If A is {', '.join(map(str, normalized_channel_gains_se))}, then B is {normalized_tx_powers_se[0]}, {normalized_tx_powers_se[1]}.\\n\"\n",
        "    line_ee = f\"If A is {', '.join(map(str, normalized_channel_gains_ee))}, then B is {normalized_tx_powers_ee[0]}, {normalized_tx_powers_ee[1]}.\\n\"\n",
        "\n",
        "    return line_se, line_ee\n",
        "\n",
        "# Use a partial function to fill in the common arguments\n",
        "process_sample_partial = partial(process_sample, ref_path_loss=p_0, N0=noise_power_density, bandwidth=W, Pc=circuit_power, threshold=max_power)\n",
        "\n",
        "# Apply the map function to process all samples\n",
        "results_se, results_ee = zip(*map(process_sample_partial, range(num_samples)))\n",
        "print()\n",
        "se_dataset = \"se.txt\"\n",
        "ee_dataset = \"ee.txt\"\n",
        "# Write to files in one go\n",
        "with open(se_dataset, 'w') as file_se:\n",
        "    file_se.writelines(results_se)\n",
        "\n",
        "with open(ee_dataset, 'w') as file_ee:\n",
        "    file_ee.writelines(results_ee)\n"
      ],
      "metadata": {
        "id": "LKG2r_Rk5F14"
      },
      "execution_count": null,
      "outputs": []
    }
  ],
  "metadata": {
    "accelerator": "GPU",
    "colab": {
      "gpuType": "T4",
      "provenance": []
    },
    "kernelspec": {
      "display_name": "Python 3",
      "name": "python3"
    },
    "language_info": {
      "name": "python"
    }
  },
  "nbformat": 4,
  "nbformat_minor": 0
}