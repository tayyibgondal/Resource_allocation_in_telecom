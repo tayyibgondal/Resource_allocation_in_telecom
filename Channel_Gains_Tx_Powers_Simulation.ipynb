{
  "nbformat": 4,
  "nbformat_minor": 0,
  "metadata": {
    "colab": {
      "provenance": [],
      "gpuType": "T4"
    },
    "kernelspec": {
      "name": "python3",
      "display_name": "Python 3"
    },
    "language_info": {
      "name": "python"
    },
    "accelerator": "GPU"
  },
  "cells": [
    {
      "cell_type": "markdown",
      "source": [
        "Step 0: Imports and coefficients"
      ],
      "metadata": {
        "id": "yUFGnN3DUXEa"
      }
    },
    {
      "cell_type": "code",
      "source": [
        "import numpy as np\n",
        "from numpy import random\n",
        "from scipy.optimize import minimize\n",
        "import cmath\n",
        "from sklearn.preprocessing import StandardScaler"
      ],
      "metadata": {
        "id": "2xW96kgyWCzi"
      },
      "execution_count": 1,
      "outputs": []
    },
    {
      "cell_type": "code",
      "source": [
        "noise_power_density = 5.0119e-21\n",
        "p_0 = -0.001\n",
        "chan_realisations = 100 # number of different channel realisations for one channel\n",
        "W = 10e6 # bandwidth (unit:Hz)\n",
        "circuit_power = 1 # constant circuit power of transmitter (unit: Watt)\n",
        "max_power = 1 # max transmission power (unit:Watt)\n",
        "num_samples = 5000 # no of rows in dataset\n",
        "\n",
        "# Define realistic bounds for an urban environment (1 km³ area)\n",
        "x_range = (0, 1000)  # meters\n",
        "y_range = (0, 1000)  # meters\n",
        "z_range = (0, 50)    # meters, considering building heights"
      ],
      "metadata": {
        "id": "lNkeU1NNUsoi"
      },
      "execution_count": 77,
      "outputs": []
    },
    {
      "cell_type": "markdown",
      "source": [
        "Step 1: Generate nodes in 3D space"
      ],
      "metadata": {
        "id": "y42QAAHR9gKu"
      }
    },
    {
      "cell_type": "code",
      "source": [
        "def generate_random_coordinates(n_devices, x_range, y_range, z_range):\n",
        "    \"\"\"Generate random coordinates for devices in a 3D space.\n",
        "\n",
        "    Args:\n",
        "        n_devices (int): Number of devices to generate coordinates for.\n",
        "        x_range (tuple): The range (min, max) for the x-coordinate.\n",
        "        y_range (tuple): The range (min, max) for the y-coordinate.\n",
        "        z_range (tuple): The range (min, max) for the z-coordinate.\n",
        "\n",
        "    Returns:\n",
        "        list: A list of tuples containing the (x, y, z) coordinates.\n",
        "    \"\"\"\n",
        "    coordinates = np.zeros((n_devices, 3))\n",
        "    for i in range(n_devices):\n",
        "        x = np.random.uniform(*x_range)\n",
        "        y = np.random.uniform(*y_range)\n",
        "        z = np.random.uniform(*z_range)\n",
        "        coordinates[i] = [x, y, z]\n",
        "\n",
        "    return coordinates\n"
      ],
      "metadata": {
        "id": "tp9qf9ex9omU"
      },
      "execution_count": 3,
      "outputs": []
    },
    {
      "cell_type": "markdown",
      "source": [
        "Step 2: Define channel"
      ],
      "metadata": {
        "id": "cMREGIF0BQny"
      }
    },
    {
      "cell_type": "code",
      "source": [
        "def calculate_distance(tx, rx):\n",
        "  \"\"\"Calculate the Euclidean distance between two 3D coordinates.\n",
        "\n",
        "    Args:\n",
        "        tx: 3D coordinate of the transmitter (x, y, z)\n",
        "        rx: 3D coordinate of the receiver (x, y, z)\n",
        "\n",
        "    Returns:\n",
        "        Distance between the two points.\n",
        "    \"\"\"\n",
        "  return np.linalg.norm(np.array(tx) - np.array(rx))"
      ],
      "metadata": {
        "id": "vCNNs5cQYeZO"
      },
      "execution_count": 4,
      "outputs": []
    },
    {
      "cell_type": "code",
      "source": [
        "def generate_channel_model(p_0, tx, rx):\n",
        "  \"\"\"Generate channel model between one tx and its rx\n",
        "\n",
        "    Args:\n",
        "        p_0: reference path loss at 1m\n",
        "        tx: transmitter coordinates\n",
        "        rx: list of receiver coordinates\n",
        "\n",
        "    Returns:\n",
        "        h: channel model(1 x len(rx) x chan_realisations vector with multiple channel realisations across all tx-rx channel pairs)\n",
        "    \"\"\"\n",
        "  h = np.empty((1, len(rx), chan_realisations), dtype=complex)\n",
        "\n",
        "  # tx = np.array(tx)\n",
        "  # rx = np.array(rx)\n",
        "\n",
        "  # # Reshape tx for broadcasting\n",
        "  # tx_reshaped = tx[np.newaxis, :]  # Shape (1, 2)\n",
        "\n",
        "  # # Calculate distances between tx and all receivers\n",
        "  # distances = np.linalg.norm(rx - tx_reshaped, axis=1)  # Shape will be (number of receivers,)\n",
        "\n",
        "  # # Add a small epsilon to avoid division by zero\n",
        "  # epsilon = 1e-10\n",
        "  # distances = np.maximum(distances, epsilon)\n",
        "\n",
        "  # # Calculate large-scale fading component for all receivers\n",
        "  # total_large_scale_fading = np.sqrt(p_0 / (distances ** 3))\n",
        "\n",
        "  # # Generate small-scale fading using Rayleigh distribution for all channel realizations and receivers\n",
        "  # small_scale_fading = np.random.rayleigh(scale=1.0, size=(1, len(rx), chan_realisations))\n",
        "\n",
        "  # # Compute the channel model (broadcast large-scale fading to match small-scale fading shape)\n",
        "  # h = total_large_scale_fading[np.newaxis, :, np.newaxis] * small_scale_fading\n",
        "\n",
        "  epsilon = 1e-10\n",
        "  d_rx0 = calculate_distance(tx,rx[0])\n",
        "  distances_rx0 = np.maximum(d_rx0, epsilon)\n",
        "\n",
        "  d_rx1 = calculate_distance(tx,rx[1])\n",
        "  distances_rx1 = np.maximum(d_rx0, epsilon)\n",
        "\n",
        "  total_large_scale_fading_rx1 = cmath.sqrt(p_0/(distances_rx0**(3)))\n",
        "  total_large_scale_fading_rx2 = cmath.sqrt(p_0/(distances_rx0**(3)))\n",
        "\n",
        "  # Stack the large-scale fading values into an array\n",
        "  total_large_scale_fading = np.array([total_large_scale_fading_rx1, total_large_scale_fading_rx2])\n",
        "\n",
        "  # Generate small-scale fading\n",
        "  small_scale_fading = np.random.rayleigh(scale=1.0, size=(1, len(rx), chan_realisations))\n",
        "\n",
        "  # Multiply total large scale fading with small scale fading\n",
        "  h = small_scale_fading * total_large_scale_fading.reshape(1,2,1)\n",
        "\n",
        "  return h\n",
        "\n",
        "  # for i in range(len(rx)):\n",
        "  #   total_large_scale_fading_rx = np.sqrt(p_0/(calculate_distance(tx,rx[i])**(3)))\n",
        "  #   for j in range(chan_realisations):\n",
        "  #     small_scale_fading = np.random.rayleigh()\n",
        "  #     h[:, i, j] =  total_large_scale_fading*small_scale_fading\n",
        "  # return h"
      ],
      "metadata": {
        "id": "-ql33XYx_FpL"
      },
      "execution_count": 55,
      "outputs": []
    },
    {
      "cell_type": "code",
      "source": [
        "def generate_all_channels(p_0, tx_coords, rx_coords):\n",
        "  \"\"\"Generate channel realizations for all transmitter-receiver pairs.\n",
        "\n",
        "    Args:\n",
        "        p_0: reference path loss.\n",
        "        tx_coords: list of 3D coordinates for transmitters [(x1, y1, z1), (x2, y2, z2)].\n",
        "        rx_coords: list of 3D coordinates for receivers [(x1, y1, z1), (x2, y2, z2)].\n",
        "\n",
        "    Returns:\n",
        "        h_11, h_12, h_21, h_22: Channel model across all tx-rx pairs (shape: 1 x len(rx) x chan_realisations) e.g. h_21 means channel b/w transmitter 2 and receiver 1\n",
        "    \"\"\"\n",
        "  h1 = generate_channel_model(p_0, tx_coords[0], rx_coords)\n",
        "  h2 = generate_channel_model(p_0, tx_coords[1], rx_coords)\n",
        "\n",
        "  # print(h1)\n",
        "  # print(h1[:,0,:])\n",
        "  h_11 = h1[:,0,:]\n",
        "  h_12 = h1[:,1,:]\n",
        "\n",
        "  h_21 = h2[:,0,:]\n",
        "  h_22 = h2[:,1,:]\n",
        "\n",
        "  return np.array([h_11, h_12, h_21, h_22])\n"
      ],
      "metadata": {
        "id": "V-jdqrZfioOQ"
      },
      "execution_count": 35,
      "outputs": []
    },
    {
      "cell_type": "markdown",
      "source": [
        "Step 3: Define channel gain"
      ],
      "metadata": {
        "id": "Jz5CcxveHGzu"
      }
    },
    {
      "cell_type": "code",
      "source": [
        "def generate_channel_gains(channels):\n",
        "  return np.abs(channels)**2"
      ],
      "metadata": {
        "id": "6bSBqGIFHKDL"
      },
      "execution_count": 8,
      "outputs": []
    },
    {
      "cell_type": "markdown",
      "source": [
        "Step 4: Define spectral and energy efficiency functions"
      ],
      "metadata": {
        "id": "KjuwD5ymOFLV"
      }
    },
    {
      "cell_type": "code",
      "source": [
        "def spectral_efficiency(P, h, N0, W):\n",
        "    \"\"\"\n",
        "    Calculate the total spectral efficiency for two transmitters.\n",
        "    Parameters:\n",
        "    - P: Array of transmit powers [P1, P2]\n",
        "    - h: Array of channel gains [h11, h12, h21, h22] (first number is index of tx, second is index of rx)\n",
        "    - N0: Noise power density\n",
        "    - W: Bandwidth\n",
        "\n",
        "    Returns:\n",
        "    - Total spectral efficiency\n",
        "    \"\"\"\n",
        "    P1, P2 = P\n",
        "    # h11, h12, h21, h22 = h\n",
        "    h11, h12, h21, h22 = h\n",
        "\n",
        "    SE1 = np.log2(1 + h11 * P1 / (N0 * W + h21 * P2))\n",
        "    SE2 = np.log2(1 + h22 * P2 / (N0 * W + h12 * P1))\n",
        "\n",
        "    total_SE = SE1 + SE2\n",
        "\n",
        "    return total_SE"
      ],
      "metadata": {
        "id": "pOlZ4EK4Zc1i"
      },
      "execution_count": 10,
      "outputs": []
    },
    {
      "cell_type": "code",
      "source": [
        "def energy_efficiency(P, h, N0, W, Pc):\n",
        "    \"\"\"\n",
        "    Calculate the energy efficiency for two transmitters.\n",
        "\n",
        "    Parameters:\n",
        "    - P: Array of transmit powers [P1, P2]\n",
        "    - h: Array of channel gains [h11, h12, h21, h22]\n",
        "    - N0: Noise power density\n",
        "    - W: Bandwidth\n",
        "    - Pc: Constant circuit power of the transmitter\n",
        "\n",
        "    Returns:\n",
        "    - Energy efficiency (EE)\n",
        "    \"\"\"\n",
        "    h11, h12, h21, h22 = h\n",
        "    P1, P2 = P\n",
        "\n",
        "    # Calculate the spectral efficiencies for the given power configuration\n",
        "    SE1 = np.log2(1 + h11 * P1 / (N0 * W + h21 * P2))\n",
        "    SE2 = np.log2(1 + h22 * P2 / (N0 * W + h12 * P1))\n",
        "\n",
        "    P1, P2 = P\n",
        "\n",
        "    EE = SE1/(P1+Pc) + SE2/(P2+Pc)\n",
        "\n",
        "    return EE"
      ],
      "metadata": {
        "id": "j7fLHzH-yqv7"
      },
      "execution_count": 13,
      "outputs": []
    },
    {
      "cell_type": "code",
      "source": [
        "# test\n",
        "se = spectral_efficiency([1,1], gains[:,:,9], -30, 10)\n",
        "ee = energy_efficiency([1,1], gains[:,:,9], -30, 10, circuit_power)\n",
        "ee"
      ],
      "metadata": {
        "colab": {
          "base_uri": "https://localhost:8080/"
        },
        "id": "Zwe7A4NvRQhs",
        "outputId": "3948fd85-3e35-4ff9-a32e-f786a3702373"
      },
      "execution_count": 14,
      "outputs": [
        {
          "output_type": "execute_result",
          "data": {
            "text/plain": [
              "array([-0.03023552])"
            ]
          },
          "metadata": {},
          "execution_count": 14
        }
      ]
    },
    {
      "cell_type": "markdown",
      "source": [
        "Step 5: Brute force search for optimal transmission powers"
      ],
      "metadata": {
        "id": "SXihjqriSOrB"
      }
    },
    {
      "cell_type": "code",
      "source": [
        "def find_optimal_power_on_se(h, N0, W):\n",
        "    \"\"\"\n",
        "    Find the optimal transmit powers for two transmitters using binary power control.\n",
        "\n",
        "    Parameters:\n",
        "    - h: Array of channel gains [h11, h12, h21, h22]\n",
        "    - N0: Noise power density\n",
        "    - W: Bandwidth\n",
        "\n",
        "    Returns:\n",
        "    - Optimal power configuration (P1, P2)\n",
        "    - Corresponding spectral efficiency\n",
        "    \"\"\"\n",
        "    # Define the possible power configurations: [P1, P2]\n",
        "    power_configurations = [\n",
        "        [0, 0],\n",
        "        [0, 1],\n",
        "        [1, 0],\n",
        "        [1, 1]\n",
        "    ]\n",
        "\n",
        "    # Initialize variables to store the best configuration and spectral efficiency\n",
        "    best_power_configuration = None\n",
        "    best_spectral_efficiency = -float('inf')\n",
        "    best_channel_gain = None\n",
        "\n",
        "    h_current = h[:, 0, :]  # Shape (2, 1, num_realizations)\n",
        "\n",
        "    # Loop over all channel realizations\n",
        "    for realization in range(h.shape[2]):\n",
        "      # Iterate over all possible power configurations\n",
        "      for P in power_configurations:\n",
        "        se = spectral_efficiency(P, h_current[:, realization], N0, W)\n",
        "\n",
        "        if se > best_spectral_efficiency:\n",
        "          best_spectral_efficiency = se\n",
        "          best_power_configuration = P\n",
        "          best_channel_gain = h_current[:, realization]\n",
        "\n",
        "\n",
        "    return best_channel_gain, best_power_configuration"
      ],
      "metadata": {
        "id": "Tu8W-j8Vn_DY"
      },
      "execution_count": 47,
      "outputs": []
    },
    {
      "cell_type": "code",
      "source": [
        "# test\n",
        "optimal_realisation, optimal_power = find_optimal_power_on_se(gains, noise_power_density, W)\n",
        "print(f\"Optimal Power Configuration: {optimal_power}\")\n",
        "print(f\"Optimal Realisation: {optimal_realisation}\")\n"
      ],
      "metadata": {
        "colab": {
          "base_uri": "https://localhost:8080/"
        },
        "id": "4I_Gk9VKpjO7",
        "outputId": "94dd1c99-df02-4ebd-b396-535c1fdf16e5"
      },
      "execution_count": 16,
      "outputs": [
        {
          "output_type": "stream",
          "name": "stdout",
          "text": [
            "Optimal Power Configuration: [1, 0]\n",
            "Optimal Realisation: [32.22567373  0.58037383  0.2869169   0.37848834]\n"
          ]
        }
      ]
    },
    {
      "cell_type": "code",
      "source": [
        "def find_optimal_power_on_ee(h, N0, W, Pc, threshold):\n",
        "    \"\"\"\n",
        "    Find the optimal transmit powers for two transmitters to maximize energy efficiency.\n",
        "\n",
        "    Parameters:\n",
        "    - h: Array of channel gains [h11, h12, h21, h22]\n",
        "    - N0: Noise power density\n",
        "    - W: Bandwidth\n",
        "    - Pc: Constant circuit power of the transmitter\n",
        "    - threshold: Maximum transmit power for each transmitter\n",
        "\n",
        "    Returns:\n",
        "    - Optimal power configuration (P1, P2)\n",
        "    - Corresponding energy efficiency\n",
        "    \"\"\"\n",
        "    # Define the initial power configuration as [0, 0]\n",
        "    initial_power = [0, 0]\n",
        "\n",
        "    # Define bounds for each power: (0, max_threshold)\n",
        "    bounds = [(0.0001, threshold), (0.0001, threshold)]\n",
        "\n",
        "    # Initialize variables to store the best configuration and energy efficiency\n",
        "    best_power_configuration = None\n",
        "    best_energy_efficiency = -float('inf')\n",
        "    best_channel_gain = None\n",
        "\n",
        "    h_current = h[:, 0, :]  # Shape (2, 1, num_realizations)\n",
        "\n",
        "    # Loop over all channel realizations\n",
        "    for realization in range(h.shape[2]):\n",
        "      # Extract channel gains for this realization\n",
        "        h_curr = h_current[:, realization]\n",
        "\n",
        "        # Objective function to minimize (negative of energy efficiency)\n",
        "        def objective(P, h=h_curr):  # Capture h_current\n",
        "            return -energy_efficiency(P, h, N0, W, Pc)\n",
        "\n",
        "        # Perform optimization\n",
        "        result = minimize(objective, initial_power, bounds=bounds, method='L-BFGS-B')\n",
        "\n",
        "        # Optimal power configuration and corresponding energy efficiency\n",
        "        optimal_power = result.x\n",
        "        max_energy_efficiency = -result.fun  # Convert back to positive since we minimized the negative EE\n",
        "\n",
        "        # Update best results if this realization is better\n",
        "        if max_energy_efficiency > best_energy_efficiency:\n",
        "            best_energy_efficiency = max_energy_efficiency\n",
        "            best_power_configuration = optimal_power\n",
        "            best_channel_gain = h_curr  # Store the corresponding channel gains\n",
        "\n",
        "    return best_channel_gain, best_power_configuration"
      ],
      "metadata": {
        "id": "Ef11ryuc0_eI"
      },
      "execution_count": 59,
      "outputs": []
    },
    {
      "cell_type": "markdown",
      "source": [
        "Generation of data"
      ],
      "metadata": {
        "id": "CB4_BXztHYyZ"
      }
    },
    {
      "cell_type": "code",
      "source": [
        "def generate_datasets(N0, W, Pc, threshold, filename_se, filename_ee):\n",
        "  \"\"\"\n",
        "  Generate datasets for spectral efficiency and energy efficiency and save to text files.\n",
        "\n",
        "  Parameters:\n",
        "  - h: Array of channel gains (4x1x10)\n",
        "  - N0: Noise power density\n",
        "  - W: Bandwidth\n",
        "  - Pc: Constant circuit power of the transmitter\n",
        "  - max_threshold: Maximum transmit power for each transmitter\n",
        "  - filename_se: Filename for spectral efficiency dataset\n",
        "  - filename_ee: Filename for energy efficiency dataset\n",
        "  \"\"\"\n",
        "  results_se = []\n",
        "  results_ee = []\n",
        "\n",
        "  normalized_channel_gains_se = np.zeros((num_samples,4))\n",
        "  normalized_channel_gains_ee = np.zeros((num_samples, 4))\n",
        "  normalized_tx_powers_se = np.zeros((num_samples, 2), dtype=int)\n",
        "  normalized_tx_powers_ee = np.zeros((num_samples, 2), dtype=int)\n",
        "\n",
        "  # with open(filename_se, 'w') as file_se, open(filename_ee, 'w') as file_ee:\n",
        "\n",
        "  for sample in range(num_samples):\n",
        "\n",
        "    # Generate coordinates for 2 transmitters and 2 receivers\n",
        "    transmitters = generate_random_coordinates(2, x_range, y_range, z_range)\n",
        "    receivers = generate_random_coordinates(2, x_range, y_range, z_range)\n",
        "\n",
        "    # create channels b/w tx and rx\n",
        "    channels = generate_all_channels(p_0, transmitters, receivers)\n",
        "\n",
        "    # generate channel gains\n",
        "    h = generate_channel_gains(channels)\n",
        "\n",
        "    # Calculate optimal power for spectral efficiency\n",
        "    channel_gains_se, tx_powers_se = find_optimal_power_on_se(h, N0, W)\n",
        "\n",
        "    # Calculate optimal power for energy efficiency\n",
        "    channel_gains_ee, tx_powers_ee = find_optimal_power_on_ee(h, N0, W, Pc, threshold)\n",
        "\n",
        "    # Normalize channel gains and multiply by 100, then round to nearest integer\n",
        "    mean_gain_se = np.mean(channel_gains_se)\n",
        "    mean_gain_ee = np.mean(channel_gains_ee)\n",
        "\n",
        "    std_dev_gain_se = np.std(channel_gains_se)\n",
        "    std_dev_gain_ee = np.std(channel_gains_ee)\n",
        "\n",
        "    if std_dev_gain_se > 0:\n",
        "        normalized_channel_gains_se[sample] = np.round(((channel_gains_se - mean_gain_se) / std_dev_gain_se)*100).astype(int)\n",
        "    else:\n",
        "      normalized_channel_gains_se[sample]  = np.zeros_like(channel_gains_se)  # Avoid division by zero\n",
        "    if std_dev_gain_ee > 0:\n",
        "        normalized_channel_gains_ee[sample]  = np.round(((channel_gains_ee - mean_gain_ee) / std_dev_gain_ee)*100).astype(int)\n",
        "    else:\n",
        "      normalized_channel_gains_ee[sample]  = np.zeros_like(channel_gains_ee)\n",
        "\n",
        "    # Normalize transmit powers and multiply by 100, then round to nearest integer\n",
        "    normalized_tx_powers_se[sample]  = (np.array(tx_powers_se) / threshold) * 100\n",
        "    normalized_tx_powers_ee[sample]  = (np.array(tx_powers_ee) / threshold) * 100\n",
        "    normalized_tx_powers_se[sample]  = np.round(normalized_tx_powers_se[sample]).astype(int)\n",
        "    normalized_tx_powers_ee[sample]  = np.round(normalized_tx_powers_ee[sample]).astype(int)\n",
        "\n",
        "  # Prepare output strings in bulk\n",
        "  for i in range(num_samples):\n",
        "      line_se = f\"If A is {', '.join(map(str, normalized_channel_gains_se[i]))}, then B is {normalized_tx_powers_se[i][0]}, {normalized_tx_powers_se[i][1]}.\\n\"\n",
        "      results_se.append(line_se)\n",
        "\n",
        "      line_ee = f\"If A is {', '.join(map(str, normalized_channel_gains_ee[i]))}, then B is {normalized_tx_powers_ee[i][0]}, {normalized_tx_powers_ee[i][1]}.\\n\"\n",
        "      results_ee.append(line_ee)\n",
        "\n",
        "  # Write to files in one go\n",
        "  with open(filename_se, 'w') as file_se:\n",
        "      file_se.writelines(results_se)\n",
        "\n",
        "  with open(filename_ee, 'w') as file_ee:\n",
        "      file_ee.writelines(results_ee)\n",
        "\n",
        "      # Write to spectral efficiency dataset\n",
        "      # line_se = f\"If A is {', '.join(map(str, normalized_channel_gains_se))}, then B is {normalized_tx_powers_se[0]}, {normalized_tx_powers_se[1]}.\\n\"\n",
        "      # file_se.write(line_se)\n",
        "\n",
        "      # # Write to energy efficiency dataset\n",
        "      # line_ee = f\"If A is {', '.join(map(str, normalized_channel_gains_ee))}, then B is {normalized_tx_powers_ee[0]}, {normalized_tx_powers_ee[1]}.\\n\"\n",
        "      # file_ee.write(line_ee)"
      ],
      "metadata": {
        "id": "tOTS6_UuA2aW"
      },
      "execution_count": 63,
      "outputs": []
    },
    {
      "cell_type": "code",
      "source": [
        "se_dataset = \"se.txt\"\n",
        "ee_dataset = \"ee.txt\"\n",
        "generate_datasets(noise_power_density, W, circuit_power, max_power, se_dataset, ee_dataset)"
      ],
      "metadata": {
        "id": "kCHfs4yB-_pm"
      },
      "execution_count": null,
      "outputs": []
    }
  ]
}